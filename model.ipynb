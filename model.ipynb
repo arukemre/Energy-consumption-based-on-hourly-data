{
 "cells": [
  {
   "cell_type": "code",
   "execution_count": 1,
   "metadata": {},
   "outputs": [
    {
     "name": "stdout",
     "output_type": "stream",
     "text": [
      "Requirement already satisfied: optuna in /usr/local/python/3.10.4/lib/python3.10/site-packages (3.1.1)\n",
      "Requirement already satisfied: alembic>=1.5.0 in /usr/local/python/3.10.4/lib/python3.10/site-packages (from optuna) (1.10.4)\n",
      "Requirement already satisfied: cmaes>=0.9.1 in /usr/local/python/3.10.4/lib/python3.10/site-packages (from optuna) (0.9.1)\n",
      "Requirement already satisfied: colorlog in /usr/local/python/3.10.4/lib/python3.10/site-packages (from optuna) (6.7.0)\n",
      "Requirement already satisfied: numpy in /home/codespace/.local/lib/python3.10/site-packages (from optuna) (1.24.3)\n",
      "Requirement already satisfied: packaging>=20.0 in /home/codespace/.local/lib/python3.10/site-packages (from optuna) (23.1)\n",
      "Requirement already satisfied: sqlalchemy>=1.3.0 in /usr/local/python/3.10.4/lib/python3.10/site-packages (from optuna) (2.0.11)\n",
      "Requirement already satisfied: tqdm in /usr/local/python/3.10.4/lib/python3.10/site-packages (from optuna) (4.65.0)\n",
      "Requirement already satisfied: PyYAML in /home/codespace/.local/lib/python3.10/site-packages (from optuna) (6.0)\n",
      "Requirement already satisfied: Mako in /usr/local/python/3.10.4/lib/python3.10/site-packages (from alembic>=1.5.0->optuna) (1.2.4)\n",
      "Requirement already satisfied: typing-extensions>=4 in /home/codespace/.local/lib/python3.10/site-packages (from alembic>=1.5.0->optuna) (4.5.0)\n",
      "Requirement already satisfied: greenlet!=0.4.17 in /usr/local/python/3.10.4/lib/python3.10/site-packages (from sqlalchemy>=1.3.0->optuna) (2.0.2)\n",
      "Requirement already satisfied: MarkupSafe>=0.9.2 in /home/codespace/.local/lib/python3.10/site-packages (from Mako->alembic>=1.5.0->optuna) (2.1.2)\n",
      "Note: you may need to restart the kernel to use updated packages.\n"
     ]
    }
   ],
   "source": [
    "pip install optuna"
   ]
  },
  {
   "cell_type": "code",
   "execution_count": 2,
   "metadata": {},
   "outputs": [
    {
     "name": "stdout",
     "output_type": "stream",
     "text": [
      "Requirement already satisfied: meteostat in /usr/local/python/3.10.4/lib/python3.10/site-packages (1.6.5)\n",
      "Requirement already satisfied: pandas>=1.1 in /home/codespace/.local/lib/python3.10/site-packages (from meteostat) (2.0.1)\n",
      "Requirement already satisfied: pytz in /home/codespace/.local/lib/python3.10/site-packages (from meteostat) (2023.3)\n",
      "Requirement already satisfied: numpy in /home/codespace/.local/lib/python3.10/site-packages (from meteostat) (1.24.3)\n",
      "Requirement already satisfied: python-dateutil>=2.8.2 in /home/codespace/.local/lib/python3.10/site-packages (from pandas>=1.1->meteostat) (2.8.2)\n",
      "Requirement already satisfied: tzdata>=2022.1 in /home/codespace/.local/lib/python3.10/site-packages (from pandas>=1.1->meteostat) (2023.3)\n",
      "Requirement already satisfied: six>=1.5 in /home/codespace/.local/lib/python3.10/site-packages (from python-dateutil>=2.8.2->pandas>=1.1->meteostat) (1.16.0)\n",
      "Note: you may need to restart the kernel to use updated packages.\n"
     ]
    }
   ],
   "source": [
    "pip install meteostat"
   ]
  },
  {
   "cell_type": "code",
   "execution_count": 3,
   "metadata": {},
   "outputs": [
    {
     "name": "stdout",
     "output_type": "stream",
     "text": [
      "Requirement already satisfied: requests in /home/codespace/.local/lib/python3.10/site-packages (2.28.2)\n",
      "Requirement already satisfied: charset-normalizer<4,>=2 in /home/codespace/.local/lib/python3.10/site-packages (from requests) (3.1.0)\n",
      "Requirement already satisfied: idna<4,>=2.5 in /home/codespace/.local/lib/python3.10/site-packages (from requests) (3.4)\n",
      "Requirement already satisfied: urllib3<1.27,>=1.21.1 in /home/codespace/.local/lib/python3.10/site-packages (from requests) (1.26.15)\n",
      "Requirement already satisfied: certifi>=2017.4.17 in /home/codespace/.local/lib/python3.10/site-packages (from requests) (2022.12.7)\n",
      "Note: you may need to restart the kernel to use updated packages.\n"
     ]
    }
   ],
   "source": [
    "pip install requests"
   ]
  },
  {
   "cell_type": "code",
   "execution_count": null,
   "metadata": {
    "tags": []
   },
   "outputs": [
    {
     "name": "stdout",
     "output_type": "stream",
     "text": [
      "Requirement already satisfied: xgboost in /usr/local/python/3.10.4/lib/python3.10/site-packages (1.7.5)\n",
      "Requirement already satisfied: numpy in /home/codespace/.local/lib/python3.10/site-packages (from xgboost) (1.24.3)\n",
      "Requirement already satisfied: scipy in /home/codespace/.local/lib/python3.10/site-packages (from xgboost) (1.10.1)\n"
     ]
    }
   ],
   "source": [
    "pip install xgboost"
   ]
  },
  {
   "cell_type": "code",
   "execution_count": null,
   "metadata": {
    "tags": []
   },
   "outputs": [],
   "source": [
    "import pandas as pd\n",
    "import numpy as np\n",
    "import optuna\n",
    "import gc\n",
    "import requests\n",
    "import json\n",
    "from sklearn.preprocessing import SplineTransformer\n",
    "from tqdm import tqdm\n",
    "import seaborn as sns\n",
    "import matplotlib.pyplot as plt\n",
    "from sklearn.preprocessing import LabelEncoder\n",
    "from sklearn.metrics import mean_absolute_percentage_error,r2_score,mean_squared_error\n",
    "from sklearn.model_selection import TimeSeriesSplit,cross_val_score,KFold\n",
    "from datetime import date\n",
    "from datetime import datetime\n",
    "from sklearn.cluster import KMeans\n",
    "import xgboost as xgb\n",
    "import warnings\n",
    "warnings.filterwarnings(\"ignore\", category=DeprecationWarning) \n",
    "import os\n",
    "pd.set_option('display.max_rows', 250)\n",
    "pd.set_option('display.max_columns', 50)\n",
    "\n",
    "from IPython.core.interactiveshell import InteractiveShell\n",
    "InteractiveShell.ast_node_interactivity = \"all\"\n",
    "\n"
   ]
  },
  {
   "cell_type": "code",
   "execution_count": null,
   "metadata": {
    "tags": []
   },
   "outputs": [],
   "source": [
    "!pip install importnb\n"
   ]
  },
  {
   "cell_type": "code",
   "execution_count": null,
   "metadata": {
    "tags": []
   },
   "outputs": [],
   "source": [
    "# with the new api\n",
    "from importnb import imports\n",
    "with imports(\"ipynb\"):\n",
    "    import modules\n",
    "\n"
   ]
  },
  {
   "cell_type": "code",
   "execution_count": null,
   "metadata": {},
   "outputs": [],
   "source": [
    "class CFG:\n",
    "    target = 'tüketim'\n",
    "    train_path = 'data/train.csv'\n",
    "    test_path = 'data/sample_submission.csv'\n",
    "    med_path = 'data/med.csv'\n",
    "    submission_path='data/sample_submission.csv'\n",
    "    generation_path='data/TR_enerji_uretimi.csv'\n",
    "    weatherfrom_wwo='data/izmir_weather_data.csv'\n",
    "    meteostat_feature_columns = ['temp','dwpt','rhum','prcp','wdir','wspd','pres','coco']\n",
    "    production_features = True\n",
    "    consumption_features = False\n",
    "    yuk_tahmin_plani_features = False"
   ]
  },
  {
   "cell_type": "markdown",
   "metadata": {},
   "source": [
    "### Read Data"
   ]
  },
  {
   "cell_type": "code",
   "execution_count": null,
   "metadata": {},
   "outputs": [],
   "source": [
    "train=pd.read_csv(CFG.train_path).rename(columns={'Dağıtılan Enerji (MWh)':'tüketim'})\n",
    "test=pd.read_csv(CFG.test_path).rename(columns={'Dağıtılan Enerji (MWh)':'tüketim'})\n",
    "med=pd.read_csv(CFG.med_path)\n",
    "submission=pd.read_csv(CFG.submission_path)\n",
    "train = modules.timeseries_features(train.set_index('Tarih'))\n",
    "test= modules.timeseries_features(test.set_index('Tarih'))\n",
    "test['tüketim']=test['tüketim'].replace(0,np.nan)\n",
    "train.index=pd.to_datetime(train.index)"
   ]
  },
  {
   "cell_type": "markdown",
   "metadata": {},
   "source": [
    "### Train and Test data merged"
   ]
  },
  {
   "cell_type": "code",
   "execution_count": null,
   "metadata": {},
   "outputs": [],
   "source": [
    "all_data=pd.concat([train,test],axis=0)\n",
    "all_data.index=pd.to_datetime(all_data.index)\n",
    "med.Tarih=pd.to_datetime(med.Tarih)\n",
    "# Gün içindeki elektrik kesinti süresinin kabul edilebilir limiti aştığı gün.\n",
    "med['Tarih']=med['Tarih'].astype(str)"
   ]
  },
  {
   "cell_type": "markdown",
   "metadata": {},
   "source": [
    "## External Data"
   ]
  },
  {
   "cell_type": "code",
   "execution_count": null,
   "metadata": {},
   "outputs": [],
   "source": [
    "weather=modules.get_meteostat_data(datetime(2018, 1, 1), datetime(2022, 9, 1),features=CFG.meteostat_feature_columns)[:-1]\n",
    "generation=pd.read_csv(CFG.generation_path).iloc[:,1:]\n",
    "generation.Tarih=pd.to_datetime(generation.Tarih)\n",
    "generation=generation[['total','Tarih']]\n",
    "# generation=real_time_generation()\n",
    "consumption=modules.real_time_consumption()\n",
    "con_pro=consumption.merge(generation,on='Tarih',how='left')\n",
    "con_pro.set_index('Tarih',drop=True,inplace=True)\n",
    "all_data=all_data.merge(weather,left_index=True,right_index=True)\n",
    "all_data=all_data.merge(con_pro,left_index=True,right_index=True)\n",
    "\n",
    "# ------------------------------------------------------------------------------------------------------------------------------------\n",
    "yuk=pd.read_csv('data/YukTahmin.csv',encoding='unicode_escape').iloc[:40896,2]\n",
    "all_data['yuk']=yuk.values\n",
    "all_data.yuk=all_data.yuk.str.replace(',','').astype(float)\n",
    "# ------------------------------------------------------------------------------------------------------------------------------------\n",
    "ep=pd.read_csv('data/DENGESIZLIK.csv',encoding='unicode_escape').iloc[:40896,2:]\n",
    "all_data['pozitif']=ep['Pozitif Dengesizlik Miktarý (MWh)'].values\n",
    "all_data['pozitif']=all_data['pozitif'].str.replace(',','').astype(float)\n",
    "# ------------------------------------------------------------------------------------------------------------------------------------\n",
    "ue=pd.read_csv('data/UECM.csv',encoding='unicode_escape').iloc[:40896,2:]\n",
    "ue['UEÇM (MWh)']=ue['UEÇM (MWh)'].str.replace(',','').astype(float)\n",
    "all_data['ue']=ue['UEÇM (MWh)'].values\n",
    "\n",
    "# ------------------------------------------------------------------------------------------------------------------------------------\n",
    "weatherfrom_wwo=pd.read_csv(CFG.weatherfrom_wwo,index_col='date_time')[:'2022-08-31 23:00:00']\n",
    "weatherfrom_wwo.index=pd.to_datetime(weatherfrom_wwo.index)\n",
    "all_data=all_data.merge(weatherfrom_wwo[['pressure','humidity','uvIndex','WindGustKmph','windspeedKmph']],left_index=True,right_index=True)\n",
    "all_index=all_data.index"
   ]
  },
  {
   "cell_type": "markdown",
   "metadata": {},
   "source": [
    "### Lag Features"
   ]
  },
  {
   "cell_type": "code",
   "execution_count": null,
   "metadata": {
    "tags": []
   },
   "outputs": [],
   "source": [
    "all_data.columns"
   ]
  },
  {
   "cell_type": "code",
   "execution_count": null,
   "metadata": {
    "scrolled": true,
    "tags": []
   },
   "outputs": [],
   "source": [
    "all_data=modules.lag_features(all_data,['pres','rhum','humidity','uvIndex','WindGustKmph','temp','total','yuk','ue','pozitif'],48,24) \n",
    "# all_data=diff_pct_features(all_data,['pres','rhum','humidity','uvIndex','WindGustKmph','temp','total','yuk','ue'],1) \n",
    "all_data=modules.rolling_features(all_data,['pres','rhum','humidity','uvIndex','WindGustKmph','temp','total','yuk','ue','pozitif'],[6,12,18,24,30,36,42,48],['mean',''])\n",
    "all_data=modules.rolling_shift_features(all_data,['pres','rhum','humidity','uvIndex','WindGustKmph','temp','total','yuk','ue','pozitif'],[6,12,18,24,30,36,42,48],['mean','std'],shift=24)\n",
    "\n",
    "# hour_df=seasonality_spline_features()\n",
    "# all_data=all_data.merge(hour_df, on='hour').set_index(all_data.index)"
   ]
  },
  {
   "cell_type": "markdown",
   "metadata": {},
   "source": [
    "###  Changed some columns of dtypes to category"
   ]
  },
  {
   "cell_type": "code",
   "execution_count": null,
   "metadata": {},
   "outputs": [],
   "source": [
    "all_data['med_label']=np.where(all_data.date.isin(med.Tarih),1,0)\n",
    "all_data=modules.is_categorical(all_data,all_data.columns)"
   ]
  },
  {
   "cell_type": "code",
   "execution_count": null,
   "metadata": {},
   "outputs": [],
   "source": [
    "df_train=all_data[all_data.tüketim.notnull()]\n",
    "df_test=all_data[all_data.tüketim.isnull()]\n",
    "print(df_train.shape)\n",
    "print(df_test.shape)"
   ]
  },
  {
   "cell_type": "markdown",
   "metadata": {},
   "source": [
    "### Target Encoding by some of seasonal columns"
   ]
  },
  {
   "cell_type": "code",
   "execution_count": null,
   "metadata": {},
   "outputs": [],
   "source": [
    "df_train,df_test=modules.cat_target_encode(df_train,df_test,'tüketim','hour','mean')\n",
    "df_train,df_test=modules.cat_target_encode(df_train,df_test,'tüketim',['season','weekend','hour'],'mean')\n",
    "df_train,df_test=modules.cat_target_encode(df_train,df_test,'tüketim',['season','weekday','prime_time','hour'],'mean')\n",
    "all_data=pd.concat([df_train,df_test])\n",
    "all_data.drop(['pres','rhum','humidity','uvIndex','WindGustKmph','temp','total','yuk','ue','pozitif'],axis=1,inplace=True)\n"
   ]
  },
  {
   "cell_type": "code",
   "execution_count": null,
   "metadata": {},
   "outputs": [],
   "source": [
    "# all_data=all_data.reset_index(drop=True)\n",
    "all_data.drop([\n",
    "'date',\n",
    "'dayofyear',\n",
    "'dayofweek',\n",
    " # 'weekofyear'\n",
    "# 'year'\n",
    "],axis=1,inplace=True)"
   ]
  },
  {
   "cell_type": "markdown",
   "metadata": {},
   "source": [
    "### Categorical features are labeled for xgboost"
   ]
  },
  {
   "cell_type": "code",
   "execution_count": null,
   "metadata": {},
   "outputs": [],
   "source": [
    "cat_features=all_data.select_dtypes('category').columns\n",
    "le_fit={}\n",
    "all_data[cat_features],le_fit=modules.label_data(feature=cat_features,data=all_data,le_fit=le_fit)\n",
    "data_train=all_data[all_data.tüketim.notnull()]\n",
    "test_sub=all_data[all_data.tüketim.isnull()]\n",
    "test_sub.drop('tüketim',axis=1,inplace=True)\n",
    "print(test_sub.shape)\n",
    "print(data_train.shape)"
   ]
  },
  {
   "cell_type": "code",
   "execution_count": null,
   "metadata": {},
   "outputs": [],
   "source": [
    "test_sub"
   ]
  },
  {
   "cell_type": "markdown",
   "metadata": {},
   "source": [
    "## Model Tuned"
   ]
  },
  {
   "cell_type": "code",
   "execution_count": null,
   "metadata": {
    "_kg_hide-output": true
   },
   "outputs": [],
   "source": [
    "tscv = TimeSeriesSplit(n_splits=3, test_size=2200) \n",
    "target=data_train.tüketim\n",
    "train_labeled=data_train.drop('tüketim',axis=1)\n",
    "def objective(trial,data=train_labeled,target=target,tscv=tscv):\n",
    "    \n",
    "        param = {\n",
    "            'base_score':0.5,\n",
    "            'objective':'reg:squarederror',\n",
    "            'booster':'gbtree', \n",
    "            'lambda': trial.suggest_float('lambda', 1e-3, 10),\n",
    "            'alpha': trial.suggest_float('alpha', 1e-3, 10),\n",
    "            'colsample_bytree': trial.suggest_categorical('colsample_bytree', [0.7,0.8,0.9,1.0]),\n",
    "            'subsample': trial.suggest_categorical('subsample', [0.5,0.6,0.7,0.8,1.0]),\n",
    "            'learning_rate': trial.suggest_categorical('learning_rate', [0.08,0.009,0.01,0.012,0.014,0.016,0.018,0.001,0.1,0.5]),\n",
    "            'n_estimators':1500,\n",
    "            'max_depth': trial.suggest_categorical('max_depth', [3,4,5,7,9,10]),\n",
    "            'random_state': trial.suggest_categorical('random_state', [24, 48,2020]),\n",
    "            'min_child_weight': trial.suggest_int('min_child_weight', 1, 500),\n",
    "            'tree_method':'gpu_hist',\n",
    "            'enable_categorical':True,\n",
    "            'early_stopping_rounds':250\n",
    "        } \n",
    "\n",
    "        best_iteration_list=[]\n",
    "        score_list=[]\n",
    "        model_list=[]\n",
    "        fea_importance_list=[]\n",
    "        tscv_splits = list(tscv.split(data,target))  \n",
    "        for split_train, split_val in tscv_splits:\n",
    "            x_train, y_train = data.iloc[split_train], target.iloc[split_train]\n",
    "            x_val, y_val = data.iloc[split_val], target.iloc[split_val]\n",
    "\n",
    "        model = xgb.XGBRegressor(**param)  \n",
    "        model.fit(x_train,y_train,eval_set=[(x_train, y_train), (x_val, y_val)],verbose=0)\n",
    "        best_iteration=model.best_iteration\n",
    "        val_pred=model.predict(x_val)\n",
    "        model_list.append(model)\n",
    "        score=mean_absolute_percentage_error(y_val, val_pred)\n",
    "        score_list.append(score)\n",
    "        fea_importance_list.append(model.feature_importances_)\n",
    "\n",
    "\n",
    "        trial.set_user_attr('model',model_list)\n",
    "        trial.set_user_attr('best_iteration',best_iteration)\n",
    "        trial.set_user_attr(\"feature_importance\", np.mean(fea_importance_list,axis=0))\n",
    "        trial.set_user_attr(\"score_list\", score_list)\n",
    "\n",
    "        scores=np.mean(score)\n",
    "        return scores\n",
    "\n",
    "\n",
    "\n",
    "study = optuna.create_study(direction='minimize')\n",
    "study.optimize(objective, n_trials=85)\n",
    "print('Number of finished trials:', len(study.trials))\n",
    "print('Best trial:', study.best_trial.params)\n",
    "gc.collect()"
   ]
  },
  {
   "cell_type": "markdown",
   "metadata": {},
   "source": [
    "#### BEST PARAMS \n",
    "**>params={\n",
    "'lambda': 5.102807684567904, \n",
    "'alpha': 6.511737741485641,\n",
    "'colsample_bytree': 0.9, \n",
    "'subsample': 0.7, \n",
    "'learning_rate': 0.012,\n",
    "'max_depth': 10,\n",
    "'random_state': 24,\n",
    "'min_child_weight': 28,\n",
    "'n_estimators': 1500,\n",
    "'tree_method':'gpu_hist',\n",
    "'enable_categorical':True}**\n"
   ]
  },
  {
   "cell_type": "code",
   "execution_count": null,
   "metadata": {},
   "outputs": [],
   "source": [
    "param={\n",
    "'lambda': 8.48551751148768, 'alpha': 2.366829085730496, 'colsample_bytree': 0.7, 'subsample': 0.8, 'learning_rate': 0.08, 'max_depth': 5, 'random_state': 48, 'min_child_weight': 24,\n",
    "    'n_estimators': 1500,\n",
    "    'tree_method':'gpu_hist',\n",
    "        'enable_categorical':True\n",
    "} \n",
    "\n",
    "all_models=[]\n",
    "for i in [1200, 54,55]:\n",
    "    param[\"random_state\"] = i\n",
    "    model = xgb.XGBRegressor(**param)  \n",
    "    model.fit(train_labeled,target)\n",
    "    all_models.append(model)\n",
    "\n",
    "preds = [model.predict(test_sub)  for model in all_models]\n",
    "mean_preds = np.mean(preds, axis=0)\n",
    "\n",
    "\n",
    "best=pd.read_csv('/kaggle/input/bestresultgediz33/gediz_33.csv')\n",
    "result8=pd.read_csv('/kaggle/input/resulte-759/gediz_8.csv')\n",
    "best['preds']=mean_preds\n",
    "best['result8']=result8['Dağıtılan Enerji (MWh)']\n",
    "\n",
    "print(f'8.ay ortalama tüketim :{train[(train.year==2021) &(train.month==8)].tüketim.mean()}')\n",
    "print(f'8.ay preds ortalama tüketim:{np.mean(mean_preds)}')\n",
    "importances=model.feature_importances_\n",
    "features=test_sub.columns\n",
    "dum=pd.DataFrame(data={'features':features,'importances_rate':importances}).sort_values('importances_rate',ascending=False)\n",
    "sns.set(rc={'figure.figsize':(30,15)})\n",
    "g=sns.barplot(x=dum.features,y=dum.importances_rate)\n",
    "g.set_xticklabels(g.get_xticklabels(), rotation=90);"
   ]
  },
  {
   "cell_type": "code",
   "execution_count": null,
   "metadata": {},
   "outputs": [],
   "source": [
    "submission=pd.read_csv('/kaggle/input/gdz-elektrik-datathon-2023/sample_submission.csv')\n",
    "submission['Dağıtılan Enerji (MWh)']=mean_preds\n",
    "submission.set_index('Tarih').to_csv('/kaggle/working/gediz_57.csv')"
   ]
  },
  {
   "cell_type": "code",
   "execution_count": null,
   "metadata": {},
   "outputs": [],
   "source": [
    "plt.plot(best['Dağıtılan Enerji (MWh)'])"
   ]
  },
  {
   "cell_type": "code",
   "execution_count": null,
   "metadata": {},
   "outputs": [],
   "source": [
    "plt.plot(mean_preds)"
   ]
  },
  {
   "cell_type": "code",
   "execution_count": null,
   "metadata": {},
   "outputs": [],
   "source": [
    "best"
   ]
  },
  {
   "cell_type": "code",
   "execution_count": null,
   "metadata": {},
   "outputs": [],
   "source": []
  }
 ],
 "metadata": {
  "kernelspec": {
   "display_name": "Python 3 (ipykernel)",
   "language": "python",
   "name": "python3"
  },
  "language_info": {
   "codemirror_mode": {
    "name": "ipython",
    "version": 3
   },
   "file_extension": ".py",
   "mimetype": "text/x-python",
   "name": "python",
   "nbconvert_exporter": "python",
   "pygments_lexer": "ipython3",
   "version": "3.10.4"
  }
 },
 "nbformat": 4,
 "nbformat_minor": 4
}
