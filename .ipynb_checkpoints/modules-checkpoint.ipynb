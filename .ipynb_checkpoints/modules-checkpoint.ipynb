{
 "cells": [
  {
   "cell_type": "code",
   "execution_count": 19,
   "id": "ac7cd624-8d80-4420-b1be-66ac8be0aa91",
   "metadata": {
    "tags": []
   },
   "outputs": [],
   "source": [
    "import pandas as pd\n",
    "import numpy as np\n",
    "import requests\n",
    "import json\n",
    "from sklearn.preprocessing import LabelEncoder"
   ]
  },
  {
   "cell_type": "code",
   "execution_count": 20,
   "id": "5bfbab34-04f5-40df-aad0-daef5fcf6797",
   "metadata": {},
   "outputs": [],
   "source": [
    "def timeseries_features(df, label=None):\n",
    "    df['datetime'] = pd.to_datetime(df.index)\n",
    "    df['hour'] = df['datetime'].dt.hour\n",
    "    df['date'] = df['datetime'].dt.date\n",
    "    df['dayofweek'] = df['datetime'].dt.dayofweek\n",
    "    df['quarter'] = df['datetime'].dt.quarter\n",
    "    df['month'] = df['datetime'].dt.month\n",
    "    df['year'] = df['datetime'].dt.year\n",
    "    df['dayofyear'] = df['datetime'].dt.dayofyear\n",
    "    df['dayofmonth'] = df['datetime'].dt.day\n",
    "    # df['weekofyear'] = df['datetime'].dt.weekofyear\n",
    "    df['weekday']=df['datetime'].dt.weekday\n",
    "    df['wntr_month']=df.apply(lambda x: 1 if x.month in ([11,12,1,2]) else 0,axis=1) \n",
    "    df['month_label']=df.month.map(lambda x : '1' if x in ([11,12,1,2,3]) else ( '2' if x in ([6,7,8,9]) else '3' ))\n",
    "    df['quarter']=df.month.map(lambda x : '1_çeyrek' if x in ([1,2,3]) else ( '2_çeyrek' if x in ([4,5,6]) else( '3_çeyrek' if x in ([7,8,9]) else '4_çeyrek') ))\n",
    "    df['season']=df.month.map(lambda x : 'kış' if x in ([12,1,2]) else ( 'ilkbahar' if x in ([3,4,5]) else( 'yaz' if x in ([6,7,8]) else 'sonbahar') ))\n",
    "    df['weekend']=df.dayofmonth.map(lambda x:  'hafta_içi' if x<5 else 'hafta_sonu')\n",
    "    df['working_hours']=df.hour.map(lambda x: 'work_hour' if (x<7) & (x>19) else 'not_work_hour' )\n",
    "    df['label_hour']=df.hour.map(lambda x : '1' if x>22 & x<24 else ('2' if x>0 & x<6 else ('3' if x>5 & x<10 else ('4' if x>9 & x<13  else ('5' if x>12 & x<17 else('6' if x>16 & x<21 else '7'))) )))\n",
    "    df['prime_time']=df.hour.map(lambda x: 'prime' if (x>19) & (x<22) else 'not_prime' )\n",
    "    df=df.drop('datetime',axis=1)\n",
    "    return df\n",
    "        \n",
    "    "
   ]
  },
  {
   "cell_type": "code",
   "execution_count": 21,
   "id": "455d0c78-c379-4244-b02e-5247a60bde03",
   "metadata": {},
   "outputs": [],
   "source": [
    "def label_data(feature,data,le_fit=None):\n",
    "    if type(feature)==str:\n",
    "        feature=[feature]\n",
    "    else :\n",
    "        pass\n",
    "    for col in feature:\n",
    "        le=LabelEncoder()\n",
    "        le_fit.update({col:le.fit(data[col])})\n",
    "        data[col]=le.transform(data[col])\n",
    "    return data[feature],le_fit"
   ]
  },
  {
   "cell_type": "code",
   "execution_count": 22,
   "id": "57fb90a4-abdd-4abe-a971-511cc7e83548",
   "metadata": {},
   "outputs": [],
   "source": [
    "def info_data(df):\n",
    "    cm = sns.light_palette(\"red\", as_cmap=True)\n",
    "    null=(df.isnull().sum()/df.shape[0]).to_frame().rename(columns={0:'null_rate'})\n",
    "    unique=df.nunique().to_frame().rename(columns={0:'nunique'})\n",
    "    dtype=pd.Series({feature:df[feature].dtype.name  for feature in df.columns}).to_frame().rename(columns={0:'dtype'})\n",
    "    return pd.merge(null, unique,left_index=True, right_index=True).merge(dtype,left_index=True, right_index=True).sort_values('null_rate',ascending=False).style.background_gradient(cmap=cm)"
   ]
  },
  {
   "cell_type": "code",
   "execution_count": 23,
   "id": "aa8906d2-6429-4674-bede-8d0b66212937",
   "metadata": {},
   "outputs": [],
   "source": [
    "def real_time_consumption(start_date=\"2017-12-01\",\n",
    "                         end_date=\"2022-10-01\"):\n",
    "    \n",
    "    \"\"\"\n",
    "    Türkiyenin toplam enerji tüketimi. 24 saat sonrasını tahmin etmek için minumum shift(24) ile kullandığım\n",
    "    EPİAŞ şeffaflık real-time elektrik tüketim verisi.\n",
    "    Tarih aralığı geniş olduğundan veriyi çekmek uzun sürebilir.\n",
    "    \n",
    "    \"\"\"\n",
    "    url=f\"https://seffaflik.epias.com.tr/transparency/service/consumption/real-time-consumption?startDate={start_date}&endDate={end_date}\"\n",
    "    response=requests.get(url,verify=False)\n",
    "    json_data=json.loads(response.text.encode('utf8'))\n",
    "    consumption=pd.DataFrame(json_data['body']['hourlyConsumptions'])\n",
    "    consumption['Tarih']=pd.to_datetime(consumption.date.str[:16])\n",
    "    consumption = consumption[['consumption','Tarih']]\n",
    "\n",
    "    return consumption"
   ]
  },
  {
   "cell_type": "code",
   "execution_count": 24,
   "id": "a20227b3-afd5-41cd-9e87-e2198f42fb3e",
   "metadata": {},
   "outputs": [],
   "source": [
    "def real_time_generation(start_date=\"2017-12-01\",\n",
    "                         end_date=\"2022-10-01\"):\n",
    "    \n",
    "    \"\"\"\n",
    "    Türkiyenin toplam enerji üretimi. 24 saat sonrasını tahmin etmek için minumum shift(24) ile kullandığım EPİAŞ şeffaflık real-time elektrik üretim verisi.\n",
    "    Tarih aralığı geniş olduğundan veriyi çekmek uzun sürebilir. Her ihtimale karşın, ekstra data olarak gdz-ext-dataset'de production.csv dosyasında bulunabilir.\n",
    "    \n",
    "    \"\"\"\n",
    "    url=f\"https://seffaflik.epias.com.tr/transparency/service/production/real-time-generation?startDate={start_date}&endDate={end_date}\"\n",
    "    response=requests.get(url,verify=False)\n",
    "    json_data=json.loads(response.text.encode('utf8'))\n",
    "    production = pd.DataFrame(json_data['body']['hourlyGenerations'])\n",
    "    production['Tarih']=pd.to_datetime(production.date.str[:16])\n",
    "    production.loc[production.total==0,'total'] = np.nan\n",
    "    production.drop(['date','naphta','nucklear'],axis=1,inplace=True)\n",
    "    \n",
    "    return production"
   ]
  },
  {
   "cell_type": "code",
   "execution_count": 25,
   "id": "2c2aca37-fd80-42b8-8649-255387126ebf",
   "metadata": {},
   "outputs": [],
   "source": [
    "def get_meteostat_data ( start_date,end_date,latitude=38.4235,longitude=27.1564,features=None):\n",
    "    from meteostat import Stations, Daily,Point,Hourly,Monthly,Normals\n",
    "    vancouver = Point(  latitude,longitude) #for  izmir\n",
    "    weather = Hourly(vancouver, start_date, end_date)\n",
    "    weather = weather.fetch()\n",
    "    weather=weather[features]\n",
    "    return weather "
   ]
  },
  {
   "cell_type": "code",
   "execution_count": 26,
   "id": "0f981236-2c6c-4280-b9b9-60b70a609e58",
   "metadata": {},
   "outputs": [],
   "source": [
    "def lag_features(df_temp,\n",
    "                 columns,\n",
    "                 lags,lag_freq):\n",
    "    if type(columns)==str:\n",
    "        columns=[columns]\n",
    "    else :\n",
    "        pass\n",
    "    for col in columns:\n",
    "        for lag in list(range(lag_freq,lags+lag_freq,lag_freq)):\n",
    "            df_temp[f'lag_{lag}_{col}'] = df_temp[col].shift(lag)\n",
    "    return df_temp"
   ]
  },
  {
   "cell_type": "code",
   "execution_count": 27,
   "id": "8936363d-f87b-4857-a73f-9a69f5714c5f",
   "metadata": {},
   "outputs": [],
   "source": [
    "def rolling_features(df_temp,columns,rolls,roll_types):\n",
    "    \n",
    "    if type(columns)==str:\n",
    "        columns=[columns]\n",
    "    else :\n",
    "        pass\n",
    "    \n",
    "    if type(roll_types)==str:\n",
    "        roll_types=[roll_types]\n",
    "    else :\n",
    "        pass\n",
    "    \n",
    "    if (type(rolls)==str) or (type(rolls)==int) :\n",
    "        rolls=[rolls]\n",
    "    else :\n",
    "        pass\n",
    "    \n",
    "    for col in columns:\n",
    "        for roll in rolls:\n",
    "            if 'mean' in roll_types:\n",
    "                df_temp[f'rolling_mean_{roll}_{col}'] = df_temp[col].rolling(roll,min_periods=1).mean().reset_index(drop=True).values\n",
    "            if 'max' in roll_types:\n",
    "                df_temp[f'rolling_max_{roll}_{col}'] = df_temp[col].rolling(roll,min_periods=1).max().reset_index(drop=True).values\n",
    "            if 'min' in roll_types:\n",
    "                df_temp[f'rolling_min_{roll}_{col}'] = df_temp[col].rolling(roll,min_periods=1).min().reset_index(drop=True).values\n",
    "            if 'std' in roll_types:\n",
    "                df_temp[f'rolling_std_{roll}_{col}'] = df_temp[col].rolling(roll,min_periods=1).std().reset_index(drop=True).values\n",
    "    return df_temp"
   ]
  },
  {
   "cell_type": "code",
   "execution_count": 28,
   "id": "1afbb806-b0a6-4d8f-95d6-31d2226bcfc4",
   "metadata": {},
   "outputs": [],
   "source": [
    "def rolling_shift_features(df_temp,\n",
    "                     columns,\n",
    "                     rolls,\n",
    "                     roll_types,shift):\n",
    "    \n",
    "    if type(columns)==str:\n",
    "        columns=[columns]\n",
    "    else :\n",
    "        pass\n",
    "    \n",
    "    if type(roll_types)==str:\n",
    "        roll_types=[roll_types]\n",
    "    else :\n",
    "        pass\n",
    "    \n",
    "    if (type(rolls)==str) or (type(rolls)==int) :\n",
    "        rolls=[rolls]\n",
    "    else :\n",
    "        pass\n",
    "    \n",
    "    for col in columns:\n",
    "        for roll in rolls:\n",
    "            if 'mean' in roll_types:\n",
    "                df_temp[f'rolling_shift_24_mean_{roll}_{col}'] = df_temp[col].shift(shift).rolling(roll,min_periods=1).mean().reset_index(drop=True).values\n",
    "            if 'max' in roll_types:\n",
    "                df_temp[f'rolling_shift_24_max_{roll}_{col}'] = df_temp[col].shift(shift).rolling(roll,min_periods=1).max().reset_index(drop=True).values\n",
    "            if 'min' in roll_types:\n",
    "                df_temp[f'rolling_shift_24_min_{roll}_{col}'] = df_temp[col].shift(shift).rolling(roll,min_periods=1).min().reset_index(drop=True).values\n",
    "            if 'std' in roll_types:\n",
    "                df_temp[f'rolling_shift_24_std_{roll}_{col}'] = df_temp[col].shift(shift).rolling(roll,min_periods=1).std().reset_index(drop=True).values\n",
    "    return df_temp"
   ]
  },
  {
   "cell_type": "code",
   "execution_count": 11,
   "id": "15b3b618-2b60-43d2-9ad5-10661b48f3b3",
   "metadata": {},
   "outputs": [],
   "source": [
    "def periodic_spline_transformer(period, n_splines=None, degree=3):\n",
    "    \"\"\"\n",
    "    Kaynak: https://scikit-learn.org/stable/auto_examples/applications/plot_cyclical_feature_engineering.html\n",
    "    \"\"\"\n",
    "    \n",
    "    if n_splines is None:\n",
    "        n_splines = period\n",
    "    n_knots = n_splines + 1  # periodic and include_bias is True\n",
    "    return SplineTransformer(\n",
    "        degree=degree,\n",
    "        n_knots=n_knots,\n",
    "        knots=np.linspace(0, period, n_knots).reshape(n_knots, 1),\n",
    "        extrapolation=\"periodic\",\n",
    "        include_bias=True)"
   ]
  },
  {
   "cell_type": "code",
   "execution_count": 12,
   "id": "678ee7b0-b787-4a92-b408-3ff729138262",
   "metadata": {},
   "outputs": [],
   "source": [
    "def diff_pct_features(df_temp,columns,diff_pct\n",
    "        ):\n",
    "    \n",
    "    if type(columns)==str:\n",
    "        columns=[columns]\n",
    "    else :\n",
    "        pass\n",
    "    if (type(diff_pct)==str) or (type(diff_pct)==int) :\n",
    "        diff_pct=[diff_pct]\n",
    "    else :\n",
    "        pass\n",
    "    \n",
    "    for col in columns:\n",
    "        for value in diff_pct:\n",
    "            df_temp[f'diff_{col}_{value}'] = df_temp[col].diff(value).values\n",
    "            df_temp[f'pct_change_{col}_{value}'] = df_temp[col].pct_change(value).values\n",
    "            \n",
    "    return df_temp"
   ]
  },
  {
   "cell_type": "code",
   "execution_count": 13,
   "id": "babd1f46-5ce4-4993-a065-9a703e9775cb",
   "metadata": {},
   "outputs": [],
   "source": [
    "def seasonality_features(df_temp):\n",
    "    df_temp['month_sin'] = np.sin(2*np.pi*df_temp.month/12)\n",
    "    df_temp['month_cos'] = np.cos(2*np.pi*df_temp.month/12)\n",
    "    df_temp['day_sin'] = np.sin(2*np.pi*df_temp.hour/24)\n",
    "    df_temp['day_cos'] = np.cos(2*np.pi*df_temp.hour/24)\n",
    "    return df_temp"
   ]
  },
  {
   "cell_type": "code",
   "execution_count": 14,
   "id": "f383436b-f64c-44a3-aaf5-67fa0fda5d79",
   "metadata": {},
   "outputs": [],
   "source": [
    "def seasonality_spline_features(hours=np.arange(0,24)):\n",
    "    hour_df = pd.DataFrame(np.linspace(0, 24, 24).reshape(-1, 1),columns=[\"hour\"])\n",
    "    splines = periodic_spline_transformer(24, n_splines=12).fit_transform(hour_df)\n",
    "    splines_df = pd.DataFrame(splines,columns=[f\"spline_{i}\" for i in range(splines.shape[1])])\n",
    "    splines_df =pd.concat([pd.Series(hours,name='hour'), splines_df], axis=\"columns\")\n",
    "    \n",
    "    return splines_df"
   ]
  },
  {
   "cell_type": "code",
   "execution_count": 15,
   "id": "61b32df7-0043-4807-b0b4-14f94e029574",
   "metadata": {},
   "outputs": [],
   "source": [
    "def is_categorical(df_temp,columns,treshold_category=0.05):\n",
    "\n",
    "    if type(columns)==str:\n",
    "        columns=[columns]\n",
    "    else :\n",
    "        pass\n",
    "        \n",
    "    for col in columns:\n",
    "        num_unique = df_temp[col].nunique()\n",
    "        dtype = df_temp[col].dtype\n",
    "\n",
    "        if dtype == 'object':\n",
    "            df_temp[col]= df_temp[col].astype('category')\n",
    "        if ( dtype == float or dtype == int) and  num_unique < len(df_temp[col]) *treshold_category:\n",
    "            df_temp[col]= df_temp[col].astype('category')\n",
    "\n",
    "    \n",
    "    return df_temp"
   ]
  },
  {
   "cell_type": "code",
   "execution_count": 16,
   "id": "c5c7cbaa-f8cd-49ad-80ae-0615d02b253f",
   "metadata": {},
   "outputs": [],
   "source": [
    "def cat_target_encode(train_temp,test_temp,target,cat_cols,encode_type):\n",
    "    if type(cat_cols)==str:\n",
    "        cat_cols=[cat_cols]\n",
    "    else :\n",
    "        pass\n",
    "    dum_temp=train_temp.groupby(cat_cols).agg({target:encode_type}).reset_index().rename(columns={target:str(\"_\".join(cat_cols))+'_te'})\n",
    "    train_temp=train_temp.merge(dum_temp,on=cat_cols,how='left')\n",
    "    test_temp=test_temp.merge(dum_temp,on=cat_cols,how='left')\n",
    "    \n",
    "    return train_temp,test_temp"
   ]
  },
  {
   "cell_type": "code",
   "execution_count": 17,
   "id": "ed2080b2-b514-40bd-9730-8e96e67dc1ca",
   "metadata": {},
   "outputs": [],
   "source": [
    "def periodic_spline_transformer(period, n_splines=None, degree=3):\n",
    "    \"\"\"\n",
    "    Kaynak: https://scikit-learn.org/stable/auto_examples/applications/plot_cyclical_feature_engineering.html\n",
    "    \"\"\"\n",
    "    \n",
    "    if n_splines is None:\n",
    "        n_splines = period\n",
    "    n_knots = n_splines + 1  # periodic and include_bias is True\n",
    "    return SplineTransformer(degree=degree,n_knots=n_knots,knots=np.linspace(0, period, n_knots).reshape(n_knots, 1),extrapolation=\"periodic\",include_bias=True)"
   ]
  },
  {
   "cell_type": "code",
   "execution_count": 18,
   "id": "65397fd8-2c5a-4ce4-bbf7-a1ad745c4eb9",
   "metadata": {
    "tags": []
   },
   "outputs": [],
   "source": [
    "def seasonality_spline_features(hours=np.arange(0,24)):\n",
    "    hour_df = pd.DataFrame(np.linspace(0, 24, 24).reshape(-1, 1),columns=[\"hour\"])\n",
    "    splines = periodic_spline_transformer(24, n_splines=12).fit_transform(hour_df)\n",
    "    splines_df = pd.DataFrame(splines,columns=[f\"spline_{i}\" for i in range(splines.shape[1])])\n",
    "    splines_df =pd.concat([pd.Series(hours,name='hour'), splines_df], axis=\"columns\")\n",
    "    \n",
    "    return splines_df"
   ]
  }
 ],
 "metadata": {
  "kernelspec": {
   "display_name": "Python 3 (ipykernel)",
   "language": "python",
   "name": "python3"
  },
  "language_info": {
   "codemirror_mode": {
    "name": "ipython",
    "version": 3
   },
   "file_extension": ".py",
   "mimetype": "text/x-python",
   "name": "python",
   "nbconvert_exporter": "python",
   "pygments_lexer": "ipython3",
   "version": "3.10.4"
  }
 },
 "nbformat": 4,
 "nbformat_minor": 5
}
